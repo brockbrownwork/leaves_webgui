{
 "cells": [
  {
   "cell_type": "markdown",
   "id": "3b71718e-3eff-4631-a487-5a4be850590c",
   "metadata": {
    "tags": []
   },
   "source": [
    "# Using Base64 String Image in Python\n",
    "\n",
    "This is an example of processing a base64 string image in Python and outputting the processed base64 image. This idea is core to the program's functionality.\n",
    "\n",
    "To use a base64 string image in Python, you need to decode the string using the `base64` module and then convert it into an image object using the `PIL` (Python Imaging Library) module. Once you have the image object, you can perform various image processing operations on it."
   ]
  },
  {
   "cell_type": "code",
   "execution_count": 1,
   "id": "82e3c6d2-ca6a-4569-98ba-85a201340d8e",
   "metadata": {
    "tags": []
   },
   "outputs": [],
   "source": [
    "import base64\n",
    "import numpy as np\n",
    "import cv2\n",
    "from IPython.display import display\n",
    "from PIL import Image\n",
    "from io import BytesIO"
   ]
  },
  {
   "cell_type": "code",
   "execution_count": 15,
   "id": "d97d0e79-5883-4d57-811e-899eaa6e1f10",
   "metadata": {
    "tags": []
   },
   "outputs": [],
   "source": [
    "def display_bw_image(base64_str):\n",
    "    # Decode base64 string to binary data\n",
    "    binary_data = base64.b64decode(base64_str)\n",
    "\n",
    "    # Convert binary data to numpy array\n",
    "    np_arr = np.frombuffer(binary_data, dtype=np.uint8)\n",
    "    \n",
    "    # Decode the numpy array to an image\n",
    "    image = cv2.imdecode(np_arr, cv2.IMREAD_GRAYSCALE)\n",
    "\n",
    "    print(image, image.shape, type(image), len(image[0]), len(image))\n",
    "    \n",
    "    # Convert the OpenCV grayscale image to a PIL Image\n",
    "    pil_image = Image.fromarray(image)\n",
    "\n",
    "    # Display the black and white image in the Jupyter notebook\n",
    "    display(pil_image)\n",
    "    \n",
    "    return pil_image"
   ]
  },
  {
   "cell_type": "code",
   "execution_count": 16,
   "id": "61b92f1c-99fa-4115-9953-ba1c0fd9f92e",
   "metadata": {},
   "outputs": [
    {
     "name": "stdout",
     "output_type": "stream",
     "text": [
      "[[255 255 255 ... 255 255 255]\n",
      " [255 255 255 ... 255 255 255]\n",
      " [255 255 255 ... 255 255 255]\n",
      " ...\n",
      " [255 255 255 ... 255 255 255]\n",
      " [255 255 255 ... 255 255 255]\n",
      " [255 255 255 ... 255 255 255]] (491, 1116) <class 'numpy.ndarray'> 1116 491\n"
     ]
    },
    {
     "data": {
      "text/plain": [
       "array([[255, 255, 255, ..., 255, 255, 255],\n",
       "       [255, 255, 255, ..., 255, 255, 255],\n",
       "       [255, 255, 255, ..., 255, 255, 255],\n",
       "       ...,\n",
       "       [255, 255, 255, ..., 255, 255, 255],\n",
       "       [255, 255, 255, ..., 255, 255, 255],\n",
       "       [255, 255, 255, ..., 255, 255, 255]], dtype=uint8)"
      ]
     },
     "metadata": {},
     "output_type": "display_data"
    }
   ],
   "source": [
    "# Read data URI from the file\n",
    "with open('base64_example.txt', 'r') as file:\n",
    "    data_uri = file.read()\n",
    "\n",
    "# Extract the base64 string from the data URI\n",
    "base64_str = data_uri.split(',')[1]\n",
    "\n",
    "# Call the function to display the black and white image\n",
    "pil_image = display_bw_image(base64_str)"
   ]
  },
  {
   "cell_type": "code",
   "execution_count": 14,
   "id": "1abfc48c-23a0-4952-916f-0fd2940f28d3",
   "metadata": {},
   "outputs": [],
   "source": [
    "buffered = BytesIO()\n",
    "pil_image.save(buffered, format=\"png\")\n",
    "\n",
    "# Encode the contents of the BytesIO object as base64\n",
    "base64_bytes = base64.b64encode(buffered.getvalue())\n",
    "\n",
    "# Convert the base64 bytes to a string\n",
    "base64_string = base64_bytes.decode('utf-8')\n",
    "\n",
    "# Add URI prefix to the base64 string\n",
    "uri_prefix = 'data:image/png;base64,'\n",
    "uri_string = uri_prefix + base64_string\n",
    "\n",
    "# Write the base64 string to a file\n",
    "with open('base64_output_test.txt', 'w') as f:\n",
    "    f.write(uri_string)\n"
   ]
  },
  {
   "cell_type": "code",
   "execution_count": null,
   "id": "ff2d71ba-620c-4a98-ae5a-3c63443e4d7a",
   "metadata": {},
   "outputs": [],
   "source": []
  }
 ],
 "metadata": {
  "kernelspec": {
   "display_name": "Python 3 (ipykernel)",
   "language": "python",
   "name": "python3"
  },
  "language_info": {
   "codemirror_mode": {
    "name": "ipython",
    "version": 3
   },
   "file_extension": ".py",
   "mimetype": "text/x-python",
   "name": "python",
   "nbconvert_exporter": "python",
   "pygments_lexer": "ipython3",
   "version": "3.10.4"
  }
 },
 "nbformat": 4,
 "nbformat_minor": 5
}
